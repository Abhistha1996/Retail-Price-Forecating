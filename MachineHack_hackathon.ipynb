{
 "cells": [
  {
   "cell_type": "code",
   "execution_count": 1,
   "metadata": {
    "id": "p7ixV_CfaYGj"
   },
   "outputs": [],
   "source": [
    "#Importing the relevant libraries\n",
    "\n",
    "import pandas as pd\n",
    "import numpy as np\n",
    "from pandas.plotting import scatter_matrix\n",
    "import matplotlib.pyplot as plt\n",
    "from sklearn import model_selection\n",
    "import seaborn as sns\n",
    "%matplotlib inline\n",
    "from sklearn.linear_model import LinearRegression\n",
    "from sklearn.model_selection import train_test_split\n",
    "from sklearn.preprocessing import StandardScaler\n",
    "scaler = StandardScaler() \n",
    "\n"
   ]
  },
  {
   "cell_type": "code",
   "execution_count": 2,
   "metadata": {
    "colab": {
     "base_uri": "https://localhost:8080/",
     "height": 669
    },
    "id": "a9R_k642alP2",
    "outputId": "0ef300bf-4938-4522-dbaf-4672dd8b48fd"
   },
   "outputs": [
    {
     "data": {
      "text/html": [
       "<div>\n",
       "<style scoped>\n",
       "    .dataframe tbody tr th:only-of-type {\n",
       "        vertical-align: middle;\n",
       "    }\n",
       "\n",
       "    .dataframe tbody tr th {\n",
       "        vertical-align: top;\n",
       "    }\n",
       "\n",
       "    .dataframe thead th {\n",
       "        text-align: right;\n",
       "    }\n",
       "</style>\n",
       "<table border=\"1\" class=\"dataframe\">\n",
       "  <thead>\n",
       "    <tr style=\"text-align: right;\">\n",
       "      <th></th>\n",
       "      <th>InvoiceNo</th>\n",
       "      <th>StockCode</th>\n",
       "      <th>Description</th>\n",
       "      <th>Quantity</th>\n",
       "      <th>InvoiceDate</th>\n",
       "      <th>UnitPrice</th>\n",
       "      <th>CustomerID</th>\n",
       "      <th>Country</th>\n",
       "    </tr>\n",
       "  </thead>\n",
       "  <tbody>\n",
       "    <tr>\n",
       "      <th>0</th>\n",
       "      <td>6141</td>\n",
       "      <td>1583</td>\n",
       "      <td>144</td>\n",
       "      <td>3</td>\n",
       "      <td>2011-05-06 16:54:00</td>\n",
       "      <td>3.75</td>\n",
       "      <td>14056.0</td>\n",
       "      <td>35</td>\n",
       "    </tr>\n",
       "    <tr>\n",
       "      <th>1</th>\n",
       "      <td>6349</td>\n",
       "      <td>1300</td>\n",
       "      <td>3682</td>\n",
       "      <td>6</td>\n",
       "      <td>2011-05-11 07:35:00</td>\n",
       "      <td>1.95</td>\n",
       "      <td>13098.0</td>\n",
       "      <td>35</td>\n",
       "    </tr>\n",
       "    <tr>\n",
       "      <th>2</th>\n",
       "      <td>16783</td>\n",
       "      <td>2178</td>\n",
       "      <td>1939</td>\n",
       "      <td>4</td>\n",
       "      <td>2011-11-20 13:20:00</td>\n",
       "      <td>5.95</td>\n",
       "      <td>15044.0</td>\n",
       "      <td>35</td>\n",
       "    </tr>\n",
       "    <tr>\n",
       "      <th>3</th>\n",
       "      <td>16971</td>\n",
       "      <td>2115</td>\n",
       "      <td>2983</td>\n",
       "      <td>1</td>\n",
       "      <td>2011-11-22 12:07:00</td>\n",
       "      <td>0.83</td>\n",
       "      <td>15525.0</td>\n",
       "      <td>35</td>\n",
       "    </tr>\n",
       "    <tr>\n",
       "      <th>4</th>\n",
       "      <td>6080</td>\n",
       "      <td>1210</td>\n",
       "      <td>2886</td>\n",
       "      <td>12</td>\n",
       "      <td>2011-05-06 09:00:00</td>\n",
       "      <td>1.65</td>\n",
       "      <td>13952.0</td>\n",
       "      <td>35</td>\n",
       "    </tr>\n",
       "    <tr>\n",
       "      <th>5</th>\n",
       "      <td>17388</td>\n",
       "      <td>495</td>\n",
       "      <td>3247</td>\n",
       "      <td>5</td>\n",
       "      <td>2011-11-27 12:52:00</td>\n",
       "      <td>1.65</td>\n",
       "      <td>15351.0</td>\n",
       "      <td>35</td>\n",
       "    </tr>\n",
       "    <tr>\n",
       "      <th>6</th>\n",
       "      <td>18494</td>\n",
       "      <td>165</td>\n",
       "      <td>3377</td>\n",
       "      <td>1</td>\n",
       "      <td>2011-12-08 20:01:00</td>\n",
       "      <td>1.25</td>\n",
       "      <td>12748.0</td>\n",
       "      <td>35</td>\n",
       "    </tr>\n",
       "    <tr>\n",
       "      <th>7</th>\n",
       "      <td>17109</td>\n",
       "      <td>2597</td>\n",
       "      <td>3435</td>\n",
       "      <td>1</td>\n",
       "      <td>2011-11-23 12:40:00</td>\n",
       "      <td>1.25</td>\n",
       "      <td>16255.0</td>\n",
       "      <td>35</td>\n",
       "    </tr>\n",
       "    <tr>\n",
       "      <th>8</th>\n",
       "      <td>17143</td>\n",
       "      <td>1945</td>\n",
       "      <td>2352</td>\n",
       "      <td>1</td>\n",
       "      <td>2011-11-23 14:07:00</td>\n",
       "      <td>5.75</td>\n",
       "      <td>17841.0</td>\n",
       "      <td>35</td>\n",
       "    </tr>\n",
       "    <tr>\n",
       "      <th>9</th>\n",
       "      <td>8422</td>\n",
       "      <td>3311</td>\n",
       "      <td>2502</td>\n",
       "      <td>6</td>\n",
       "      <td>2011-06-22 10:11:00</td>\n",
       "      <td>2.95</td>\n",
       "      <td>13849.0</td>\n",
       "      <td>35</td>\n",
       "    </tr>\n",
       "    <tr>\n",
       "      <th>10</th>\n",
       "      <td>3548</td>\n",
       "      <td>321</td>\n",
       "      <td>2732</td>\n",
       "      <td>9</td>\n",
       "      <td>2011-03-04 12:06:00</td>\n",
       "      <td>5.95</td>\n",
       "      <td>14466.0</td>\n",
       "      <td>35</td>\n",
       "    </tr>\n",
       "    <tr>\n",
       "      <th>11</th>\n",
       "      <td>4993</td>\n",
       "      <td>1236</td>\n",
       "      <td>1802</td>\n",
       "      <td>4</td>\n",
       "      <td>2011-04-08 08:20:00</td>\n",
       "      <td>4.25</td>\n",
       "      <td>13015.0</td>\n",
       "      <td>35</td>\n",
       "    </tr>\n",
       "    <tr>\n",
       "      <th>12</th>\n",
       "      <td>3140</td>\n",
       "      <td>1508</td>\n",
       "      <td>3495</td>\n",
       "      <td>30</td>\n",
       "      <td>2011-02-22 15:45:00</td>\n",
       "      <td>1.65</td>\n",
       "      <td>14646.0</td>\n",
       "      <td>23</td>\n",
       "    </tr>\n",
       "    <tr>\n",
       "      <th>13</th>\n",
       "      <td>1521</td>\n",
       "      <td>1417</td>\n",
       "      <td>815</td>\n",
       "      <td>12</td>\n",
       "      <td>2011-01-06 16:41:00</td>\n",
       "      <td>1.49</td>\n",
       "      <td>13081.0</td>\n",
       "      <td>35</td>\n",
       "    </tr>\n",
       "    <tr>\n",
       "      <th>14</th>\n",
       "      <td>3621</td>\n",
       "      <td>3045</td>\n",
       "      <td>1635</td>\n",
       "      <td>1</td>\n",
       "      <td>2011-03-07 12:17:00</td>\n",
       "      <td>1.69</td>\n",
       "      <td>16225.0</td>\n",
       "      <td>35</td>\n",
       "    </tr>\n",
       "    <tr>\n",
       "      <th>15</th>\n",
       "      <td>6186</td>\n",
       "      <td>1249</td>\n",
       "      <td>137</td>\n",
       "      <td>1</td>\n",
       "      <td>2011-05-08 13:07:00</td>\n",
       "      <td>4.25</td>\n",
       "      <td>16393.0</td>\n",
       "      <td>35</td>\n",
       "    </tr>\n",
       "    <tr>\n",
       "      <th>16</th>\n",
       "      <td>18165</td>\n",
       "      <td>438</td>\n",
       "      <td>3400</td>\n",
       "      <td>16</td>\n",
       "      <td>2011-12-05 17:17:00</td>\n",
       "      <td>2.46</td>\n",
       "      <td>14096.0</td>\n",
       "      <td>35</td>\n",
       "    </tr>\n",
       "    <tr>\n",
       "      <th>17</th>\n",
       "      <td>7051</td>\n",
       "      <td>1411</td>\n",
       "      <td>2583</td>\n",
       "      <td>2</td>\n",
       "      <td>2011-05-23 11:33:00</td>\n",
       "      <td>1.65</td>\n",
       "      <td>18283.0</td>\n",
       "      <td>35</td>\n",
       "    </tr>\n",
       "    <tr>\n",
       "      <th>18</th>\n",
       "      <td>11603</td>\n",
       "      <td>3141</td>\n",
       "      <td>113</td>\n",
       "      <td>1</td>\n",
       "      <td>2011-09-04 16:12:00</td>\n",
       "      <td>0.55</td>\n",
       "      <td>16629.0</td>\n",
       "      <td>35</td>\n",
       "    </tr>\n",
       "    <tr>\n",
       "      <th>19</th>\n",
       "      <td>262</td>\n",
       "      <td>787</td>\n",
       "      <td>2601</td>\n",
       "      <td>24</td>\n",
       "      <td>2010-12-03 09:51:00</td>\n",
       "      <td>0.42</td>\n",
       "      <td>12686.0</td>\n",
       "      <td>13</td>\n",
       "    </tr>\n",
       "  </tbody>\n",
       "</table>\n",
       "</div>"
      ],
      "text/plain": [
       "    InvoiceNo  StockCode  Description  Quantity          InvoiceDate  \\\n",
       "0        6141       1583          144         3  2011-05-06 16:54:00   \n",
       "1        6349       1300         3682         6  2011-05-11 07:35:00   \n",
       "2       16783       2178         1939         4  2011-11-20 13:20:00   \n",
       "3       16971       2115         2983         1  2011-11-22 12:07:00   \n",
       "4        6080       1210         2886        12  2011-05-06 09:00:00   \n",
       "5       17388        495         3247         5  2011-11-27 12:52:00   \n",
       "6       18494        165         3377         1  2011-12-08 20:01:00   \n",
       "7       17109       2597         3435         1  2011-11-23 12:40:00   \n",
       "8       17143       1945         2352         1  2011-11-23 14:07:00   \n",
       "9        8422       3311         2502         6  2011-06-22 10:11:00   \n",
       "10       3548        321         2732         9  2011-03-04 12:06:00   \n",
       "11       4993       1236         1802         4  2011-04-08 08:20:00   \n",
       "12       3140       1508         3495        30  2011-02-22 15:45:00   \n",
       "13       1521       1417          815        12  2011-01-06 16:41:00   \n",
       "14       3621       3045         1635         1  2011-03-07 12:17:00   \n",
       "15       6186       1249          137         1  2011-05-08 13:07:00   \n",
       "16      18165        438         3400        16  2011-12-05 17:17:00   \n",
       "17       7051       1411         2583         2  2011-05-23 11:33:00   \n",
       "18      11603       3141          113         1  2011-09-04 16:12:00   \n",
       "19        262        787         2601        24  2010-12-03 09:51:00   \n",
       "\n",
       "    UnitPrice  CustomerID  Country  \n",
       "0        3.75     14056.0       35  \n",
       "1        1.95     13098.0       35  \n",
       "2        5.95     15044.0       35  \n",
       "3        0.83     15525.0       35  \n",
       "4        1.65     13952.0       35  \n",
       "5        1.65     15351.0       35  \n",
       "6        1.25     12748.0       35  \n",
       "7        1.25     16255.0       35  \n",
       "8        5.75     17841.0       35  \n",
       "9        2.95     13849.0       35  \n",
       "10       5.95     14466.0       35  \n",
       "11       4.25     13015.0       35  \n",
       "12       1.65     14646.0       23  \n",
       "13       1.49     13081.0       35  \n",
       "14       1.69     16225.0       35  \n",
       "15       4.25     16393.0       35  \n",
       "16       2.46     14096.0       35  \n",
       "17       1.65     18283.0       35  \n",
       "18       0.55     16629.0       35  \n",
       "19       0.42     12686.0       13  "
      ]
     },
     "execution_count": 2,
     "metadata": {},
     "output_type": "execute_result"
    }
   ],
   "source": [
    "#reading the train datset\n",
    "hackathon_ = pd.read_csv(\"Train_hackathon.csv\")\n",
    "hackathon_.head(20)"
   ]
  },
  {
   "cell_type": "code",
   "execution_count": 3,
   "metadata": {
    "colab": {
     "base_uri": "https://localhost:8080/"
    },
    "id": "TUQx2O5ta8FU",
    "outputId": "8f41fdf6-3a7a-4a96-8258-e6f946b6a0de"
   },
   "outputs": [
    {
     "data": {
      "text/plain": [
       "(284780, 8)"
      ]
     },
     "execution_count": 3,
     "metadata": {},
     "output_type": "execute_result"
    }
   ],
   "source": [
    "#storing the copy of dataset in another dataframe\n",
    "hackathon_train=hackathon_\n",
    "hackathon_train.shape"
   ]
  },
  {
   "cell_type": "code",
   "execution_count": 4,
   "metadata": {
    "colab": {
     "base_uri": "https://localhost:8080/",
     "height": 669
    },
    "id": "-YmR7boqa_0Y",
    "outputId": "6f5c418b-e477-4070-e02b-cb2b72c97456"
   },
   "outputs": [
    {
     "data": {
      "text/html": [
       "<div>\n",
       "<style scoped>\n",
       "    .dataframe tbody tr th:only-of-type {\n",
       "        vertical-align: middle;\n",
       "    }\n",
       "\n",
       "    .dataframe tbody tr th {\n",
       "        vertical-align: top;\n",
       "    }\n",
       "\n",
       "    .dataframe thead th {\n",
       "        text-align: right;\n",
       "    }\n",
       "</style>\n",
       "<table border=\"1\" class=\"dataframe\">\n",
       "  <thead>\n",
       "    <tr style=\"text-align: right;\">\n",
       "      <th></th>\n",
       "      <th>InvoiceNo</th>\n",
       "      <th>StockCode</th>\n",
       "      <th>Description</th>\n",
       "      <th>Quantity</th>\n",
       "      <th>InvoiceDate</th>\n",
       "      <th>CustomerID</th>\n",
       "      <th>Country</th>\n",
       "    </tr>\n",
       "  </thead>\n",
       "  <tbody>\n",
       "    <tr>\n",
       "      <th>0</th>\n",
       "      <td>3139</td>\n",
       "      <td>1709</td>\n",
       "      <td>1079</td>\n",
       "      <td>3</td>\n",
       "      <td>2011-02-22 15:22:00</td>\n",
       "      <td>16161.0</td>\n",
       "      <td>35</td>\n",
       "    </tr>\n",
       "    <tr>\n",
       "      <th>1</th>\n",
       "      <td>617</td>\n",
       "      <td>510</td>\n",
       "      <td>3457</td>\n",
       "      <td>1</td>\n",
       "      <td>2010-12-08 12:46:00</td>\n",
       "      <td>17341.0</td>\n",
       "      <td>35</td>\n",
       "    </tr>\n",
       "    <tr>\n",
       "      <th>2</th>\n",
       "      <td>14653</td>\n",
       "      <td>604</td>\n",
       "      <td>694</td>\n",
       "      <td>36</td>\n",
       "      <td>2011-10-25 13:53:00</td>\n",
       "      <td>15158.0</td>\n",
       "      <td>35</td>\n",
       "    </tr>\n",
       "    <tr>\n",
       "      <th>3</th>\n",
       "      <td>8634</td>\n",
       "      <td>1478</td>\n",
       "      <td>3473</td>\n",
       "      <td>2</td>\n",
       "      <td>2011-06-27 12:38:00</td>\n",
       "      <td>16033.0</td>\n",
       "      <td>35</td>\n",
       "    </tr>\n",
       "    <tr>\n",
       "      <th>4</th>\n",
       "      <td>15546</td>\n",
       "      <td>3216</td>\n",
       "      <td>871</td>\n",
       "      <td>1</td>\n",
       "      <td>2011-11-06 16:14:00</td>\n",
       "      <td>15351.0</td>\n",
       "      <td>35</td>\n",
       "    </tr>\n",
       "    <tr>\n",
       "      <th>5</th>\n",
       "      <td>8348</td>\n",
       "      <td>1817</td>\n",
       "      <td>697</td>\n",
       "      <td>48</td>\n",
       "      <td>2011-06-20 13:27:00</td>\n",
       "      <td>12432.0</td>\n",
       "      <td>24</td>\n",
       "    </tr>\n",
       "    <tr>\n",
       "      <th>6</th>\n",
       "      <td>17034</td>\n",
       "      <td>262</td>\n",
       "      <td>3147</td>\n",
       "      <td>18</td>\n",
       "      <td>2011-11-22 16:26:00</td>\n",
       "      <td>13985.0</td>\n",
       "      <td>35</td>\n",
       "    </tr>\n",
       "    <tr>\n",
       "      <th>7</th>\n",
       "      <td>3701</td>\n",
       "      <td>1323</td>\n",
       "      <td>2000</td>\n",
       "      <td>7</td>\n",
       "      <td>2011-03-08 17:23:00</td>\n",
       "      <td>14507.0</td>\n",
       "      <td>35</td>\n",
       "    </tr>\n",
       "    <tr>\n",
       "      <th>8</th>\n",
       "      <td>16983</td>\n",
       "      <td>2327</td>\n",
       "      <td>1121</td>\n",
       "      <td>6</td>\n",
       "      <td>2011-11-22 12:52:00</td>\n",
       "      <td>15150.0</td>\n",
       "      <td>35</td>\n",
       "    </tr>\n",
       "    <tr>\n",
       "      <th>9</th>\n",
       "      <td>14396</td>\n",
       "      <td>2216</td>\n",
       "      <td>1912</td>\n",
       "      <td>4</td>\n",
       "      <td>2011-10-20 13:24:00</td>\n",
       "      <td>14911.0</td>\n",
       "      <td>10</td>\n",
       "    </tr>\n",
       "    <tr>\n",
       "      <th>10</th>\n",
       "      <td>10127</td>\n",
       "      <td>861</td>\n",
       "      <td>2631</td>\n",
       "      <td>2</td>\n",
       "      <td>2011-07-31 15:24:00</td>\n",
       "      <td>17841.0</td>\n",
       "      <td>35</td>\n",
       "    </tr>\n",
       "    <tr>\n",
       "      <th>11</th>\n",
       "      <td>17484</td>\n",
       "      <td>2037</td>\n",
       "      <td>1779</td>\n",
       "      <td>10</td>\n",
       "      <td>2011-11-28 13:21:00</td>\n",
       "      <td>13844.0</td>\n",
       "      <td>35</td>\n",
       "    </tr>\n",
       "    <tr>\n",
       "      <th>12</th>\n",
       "      <td>7439</td>\n",
       "      <td>2893</td>\n",
       "      <td>1155</td>\n",
       "      <td>64</td>\n",
       "      <td>2011-06-01 15:28:00</td>\n",
       "      <td>17596.0</td>\n",
       "      <td>35</td>\n",
       "    </tr>\n",
       "    <tr>\n",
       "      <th>13</th>\n",
       "      <td>4831</td>\n",
       "      <td>533</td>\n",
       "      <td>3777</td>\n",
       "      <td>3</td>\n",
       "      <td>2011-04-04 13:57:00</td>\n",
       "      <td>15311.0</td>\n",
       "      <td>35</td>\n",
       "    </tr>\n",
       "    <tr>\n",
       "      <th>14</th>\n",
       "      <td>3124</td>\n",
       "      <td>1150</td>\n",
       "      <td>1073</td>\n",
       "      <td>96</td>\n",
       "      <td>2011-02-22 12:51:00</td>\n",
       "      <td>13694.0</td>\n",
       "      <td>35</td>\n",
       "    </tr>\n",
       "    <tr>\n",
       "      <th>15</th>\n",
       "      <td>2377</td>\n",
       "      <td>1692</td>\n",
       "      <td>334</td>\n",
       "      <td>1</td>\n",
       "      <td>2011-01-31 15:35:00</td>\n",
       "      <td>15058.0</td>\n",
       "      <td>35</td>\n",
       "    </tr>\n",
       "    <tr>\n",
       "      <th>16</th>\n",
       "      <td>14511</td>\n",
       "      <td>1582</td>\n",
       "      <td>145</td>\n",
       "      <td>2</td>\n",
       "      <td>2011-10-23 13:49:00</td>\n",
       "      <td>16686.0</td>\n",
       "      <td>35</td>\n",
       "    </tr>\n",
       "    <tr>\n",
       "      <th>17</th>\n",
       "      <td>3230</td>\n",
       "      <td>1806</td>\n",
       "      <td>1737</td>\n",
       "      <td>12</td>\n",
       "      <td>2011-02-24 13:46:00</td>\n",
       "      <td>13018.0</td>\n",
       "      <td>35</td>\n",
       "    </tr>\n",
       "    <tr>\n",
       "      <th>18</th>\n",
       "      <td>2951</td>\n",
       "      <td>624</td>\n",
       "      <td>1031</td>\n",
       "      <td>2</td>\n",
       "      <td>2011-02-17 08:23:00</td>\n",
       "      <td>12431.0</td>\n",
       "      <td>3</td>\n",
       "    </tr>\n",
       "    <tr>\n",
       "      <th>19</th>\n",
       "      <td>335</td>\n",
       "      <td>178</td>\n",
       "      <td>220</td>\n",
       "      <td>2</td>\n",
       "      <td>2010-12-05 11:57:00</td>\n",
       "      <td>12567.0</td>\n",
       "      <td>13</td>\n",
       "    </tr>\n",
       "  </tbody>\n",
       "</table>\n",
       "</div>"
      ],
      "text/plain": [
       "    InvoiceNo  StockCode  Description  Quantity          InvoiceDate  \\\n",
       "0        3139       1709         1079         3  2011-02-22 15:22:00   \n",
       "1         617        510         3457         1  2010-12-08 12:46:00   \n",
       "2       14653        604          694        36  2011-10-25 13:53:00   \n",
       "3        8634       1478         3473         2  2011-06-27 12:38:00   \n",
       "4       15546       3216          871         1  2011-11-06 16:14:00   \n",
       "5        8348       1817          697        48  2011-06-20 13:27:00   \n",
       "6       17034        262         3147        18  2011-11-22 16:26:00   \n",
       "7        3701       1323         2000         7  2011-03-08 17:23:00   \n",
       "8       16983       2327         1121         6  2011-11-22 12:52:00   \n",
       "9       14396       2216         1912         4  2011-10-20 13:24:00   \n",
       "10      10127        861         2631         2  2011-07-31 15:24:00   \n",
       "11      17484       2037         1779        10  2011-11-28 13:21:00   \n",
       "12       7439       2893         1155        64  2011-06-01 15:28:00   \n",
       "13       4831        533         3777         3  2011-04-04 13:57:00   \n",
       "14       3124       1150         1073        96  2011-02-22 12:51:00   \n",
       "15       2377       1692          334         1  2011-01-31 15:35:00   \n",
       "16      14511       1582          145         2  2011-10-23 13:49:00   \n",
       "17       3230       1806         1737        12  2011-02-24 13:46:00   \n",
       "18       2951        624         1031         2  2011-02-17 08:23:00   \n",
       "19        335        178          220         2  2010-12-05 11:57:00   \n",
       "\n",
       "    CustomerID  Country  \n",
       "0      16161.0       35  \n",
       "1      17341.0       35  \n",
       "2      15158.0       35  \n",
       "3      16033.0       35  \n",
       "4      15351.0       35  \n",
       "5      12432.0       24  \n",
       "6      13985.0       35  \n",
       "7      14507.0       35  \n",
       "8      15150.0       35  \n",
       "9      14911.0       10  \n",
       "10     17841.0       35  \n",
       "11     13844.0       35  \n",
       "12     17596.0       35  \n",
       "13     15311.0       35  \n",
       "14     13694.0       35  \n",
       "15     15058.0       35  \n",
       "16     16686.0       35  \n",
       "17     13018.0       35  \n",
       "18     12431.0        3  \n",
       "19     12567.0       13  "
      ]
     },
     "execution_count": 4,
     "metadata": {},
     "output_type": "execute_result"
    }
   ],
   "source": [
    "#reading the test datset\n",
    "hackathon_test_ = pd.read_csv(\"Test_hackathon.csv\")\n",
    "hackathon_test_.head(20)"
   ]
  },
  {
   "cell_type": "code",
   "execution_count": 5,
   "metadata": {
    "colab": {
     "base_uri": "https://localhost:8080/"
    },
    "id": "5g5ExPMwbB33",
    "outputId": "0ef3580f-b4ec-43ff-8f3e-8788936627b9"
   },
   "outputs": [
    {
     "data": {
      "text/plain": [
       "(122049, 7)"
      ]
     },
     "execution_count": 5,
     "metadata": {},
     "output_type": "execute_result"
    }
   ],
   "source": [
    "#storing the copy of the test dataset in another dataframe\n",
    "hackathon_test=hackathon_test_\n",
    "hackathon_test.shape"
   ]
  },
  {
   "cell_type": "markdown",
   "metadata": {
    "id": "Yik5GDOvbH5g"
   },
   "source": [
    "# Some insights and Assumptions:\n",
    "\n",
    "## Attribute Description:\n",
    "#### Invoice No - Invoice ID, encoded as Label\n",
    "#### StockCode - Unique code per stock, encoded as Label\n",
    "#### Description - The Description, encoded as Label\n",
    "#### Quantity - Quantity purchased\n",
    "#### InvoiceDate - Date of purchase\n",
    "#### UnitPrice - The target value, price of every product\n",
    "#### CustomerID - Unique Identifier for every Customer\n",
    "#### Country - Country of sales, encoded as Label\n",
    "\n",
    "#### Unit price is not dependant upon Invoice no. , Stock code, Customer id , and country code\n",
    "#### Unit price is dependant upon Description and quantity\n",
    "#### Description is a categorical variable \n",
    "#### Quantity is an integer variable and can not be negetive\n",
    "#### Any value of quantity greater than 12000 is treated as an utlier in the train dataset and is removed"
   ]
  },
  {
   "cell_type": "code",
   "execution_count": 6,
   "metadata": {
    "colab": {
     "base_uri": "https://localhost:8080/"
    },
    "id": "NcSbA9Z3bJDj",
    "outputId": "325b7f94-909e-4c5f-ef2f-24cf5e6dcf6c"
   },
   "outputs": [
    {
     "data": {
      "text/plain": [
       "1       23224\n",
       "12      18120\n",
       "2       17703\n",
       "6       11457\n",
       "4        9718\n",
       "        ...  \n",
       "2100        1\n",
       "88          1\n",
       "1944        1\n",
       "89          1\n",
       "468         1\n",
       "Name: Quantity, Length: 203, dtype: int64"
      ]
     },
     "execution_count": 6,
     "metadata": {},
     "output_type": "execute_result"
    }
   ],
   "source": [
    "#Convering all the negative values of quantities into positive values\n",
    "\n",
    "hackathon_test[\"Quantity\"] = np.where(hackathon_test[\"Quantity\"]<0,hackathon_test[\"Quantity\"]*-1,hackathon_test[\"Quantity\"])\n",
    "hackathon_test[\"Quantity\"].value_counts()"
   ]
  },
  {
   "cell_type": "code",
   "execution_count": 7,
   "metadata": {
    "colab": {
     "base_uri": "https://localhost:8080/"
    },
    "id": "mv6aE3MubNf7",
    "outputId": "14f8db12-b3fa-4429-dc23-6f199c96381c"
   },
   "outputs": [
    {
     "data": {
      "text/plain": [
       "1       53938\n",
       "12      42433\n",
       "2       41629\n",
       "6       26699\n",
       "4       22920\n",
       "        ...  \n",
       "2160        1\n",
       "1900        1\n",
       "98          1\n",
       "1120        1\n",
       "860         1\n",
       "Name: Quantity, Length: 270, dtype: int64"
      ]
     },
     "execution_count": 7,
     "metadata": {},
     "output_type": "execute_result"
    }
   ],
   "source": [
    "#Repeating the same step in the test datset\n",
    "hackathon_train[\"Quantity\"] = np.where(hackathon_train[\"Quantity\"]<0,hackathon_train[\"Quantity\"]*-1,hackathon_train[\"Quantity\"])\n",
    "hackathon_train[\"Quantity\"].value_counts()"
   ]
  },
  {
   "cell_type": "code",
   "execution_count": 9,
   "metadata": {
    "colab": {
     "base_uri": "https://localhost:8080/"
    },
    "id": "qFGC5a0gbRxI",
    "outputId": "24065b56-50e9-4f9b-9ecf-f3e520cc091a"
   },
   "outputs": [
    {
     "data": {
      "text/plain": [
       "(284775, 8)"
      ]
     },
     "execution_count": 9,
     "metadata": {},
     "output_type": "execute_result"
    }
   ],
   "source": [
    "#Removing the outliers\n",
    "\n",
    "hackathon_train.drop(hackathon_train[hackathon_train.Quantity >= 12000].index, inplace=True)\n",
    "hackathon_train.shape"
   ]
  },
  {
   "cell_type": "code",
   "execution_count": 11,
   "metadata": {
    "id": "TzebGpMibVHU"
   },
   "outputs": [],
   "source": [
    "#Dropping the Irrelevant columns\n",
    "\n",
    "hackathon_train.drop([\"InvoiceNo\",\"StockCode\",\"InvoiceDate\",\"CustomerID\",\"Country\"],axis=1, inplace=True)\n",
    "hackathon_test.drop([\"InvoiceNo\",\"StockCode\",\"InvoiceDate\",\"CustomerID\",\"Country\"],axis=1, inplace=True)"
   ]
  },
  {
   "cell_type": "code",
   "execution_count": 14,
   "metadata": {
    "colab": {
     "base_uri": "https://localhost:8080/"
    },
    "id": "Xc-S5SWvbW5f",
    "outputId": "db4e5188-aaeb-4b0a-8a1e-5b5e5fdea51d"
   },
   "outputs": [
    {
     "data": {
      "text/plain": [
       "(406824, 1)"
      ]
     },
     "execution_count": 14,
     "metadata": {},
     "output_type": "execute_result"
    }
   ],
   "source": [
    "#concating the Description columns from the test and train dataset for binary encoding\n",
    "\n",
    "hackathon=pd.concat([hackathon_train.drop([\"UnitPrice\",\"Quantity\"],axis=1),hackathon_test.drop([\"Quantity\"],axis=1)],axis=0)\n",
    "hackathon.shape"
   ]
  },
  {
   "cell_type": "code",
   "execution_count": 15,
   "metadata": {
    "colab": {
     "base_uri": "https://localhost:8080/"
    },
    "id": "C-nMfujqqYlO",
    "outputId": "9486edb6-d32a-49f6-9b5f-cdaa4a80f98e"
   },
   "outputs": [
    {
     "name": "stdout",
     "output_type": "stream",
     "text": [
      "Index(['Description', 'Quantity', 'UnitPrice'], dtype='object')\n",
      "Index(['Description', 'Quantity'], dtype='object')\n",
      "Index(['Description'], dtype='object')\n"
     ]
    }
   ],
   "source": [
    "print(hackathon_train.columns)\n",
    "print(hackathon_test.columns)\n",
    "print(hackathon.columns)\n"
   ]
  },
  {
   "cell_type": "code",
   "execution_count": 16,
   "metadata": {
    "id": "ue97C4vnbY9T"
   },
   "outputs": [],
   "source": [
    "#conveting the integer format into string format for binary encoding \n",
    "hackathon['Description'] = hackathon['Description'].apply(str)"
   ]
  },
  {
   "cell_type": "code",
   "execution_count": 17,
   "metadata": {},
   "outputs": [
    {
     "data": {
      "text/plain": [
       "(406824, 1)"
      ]
     },
     "execution_count": 17,
     "metadata": {},
     "output_type": "execute_result"
    }
   ],
   "source": [
    "hackathon.shape"
   ]
  },
  {
   "cell_type": "code",
   "execution_count": 19,
   "metadata": {},
   "outputs": [],
   "source": [
    "#Importing the library for encoding\n",
    "import category_encoders as ce"
   ]
  },
  {
   "cell_type": "code",
   "execution_count": 20,
   "metadata": {},
   "outputs": [],
   "source": [
    "encoder= ce.BinaryEncoder(cols=['Description'],return_df=True)"
   ]
  },
  {
   "cell_type": "code",
   "execution_count": 21,
   "metadata": {},
   "outputs": [
    {
     "data": {
      "text/html": [
       "<div>\n",
       "<style scoped>\n",
       "    .dataframe tbody tr th:only-of-type {\n",
       "        vertical-align: middle;\n",
       "    }\n",
       "\n",
       "    .dataframe tbody tr th {\n",
       "        vertical-align: top;\n",
       "    }\n",
       "\n",
       "    .dataframe thead th {\n",
       "        text-align: right;\n",
       "    }\n",
       "</style>\n",
       "<table border=\"1\" class=\"dataframe\">\n",
       "  <thead>\n",
       "    <tr style=\"text-align: right;\">\n",
       "      <th></th>\n",
       "      <th>Description_0</th>\n",
       "      <th>Description_1</th>\n",
       "      <th>Description_2</th>\n",
       "      <th>Description_3</th>\n",
       "      <th>Description_4</th>\n",
       "      <th>Description_5</th>\n",
       "      <th>Description_6</th>\n",
       "      <th>Description_7</th>\n",
       "      <th>Description_8</th>\n",
       "      <th>Description_9</th>\n",
       "      <th>Description_10</th>\n",
       "      <th>Description_11</th>\n",
       "      <th>Description_12</th>\n",
       "    </tr>\n",
       "  </thead>\n",
       "  <tbody>\n",
       "    <tr>\n",
       "      <th>0</th>\n",
       "      <td>0</td>\n",
       "      <td>0</td>\n",
       "      <td>0</td>\n",
       "      <td>0</td>\n",
       "      <td>0</td>\n",
       "      <td>0</td>\n",
       "      <td>0</td>\n",
       "      <td>0</td>\n",
       "      <td>0</td>\n",
       "      <td>0</td>\n",
       "      <td>0</td>\n",
       "      <td>0</td>\n",
       "      <td>1</td>\n",
       "    </tr>\n",
       "    <tr>\n",
       "      <th>1</th>\n",
       "      <td>0</td>\n",
       "      <td>0</td>\n",
       "      <td>0</td>\n",
       "      <td>0</td>\n",
       "      <td>0</td>\n",
       "      <td>0</td>\n",
       "      <td>0</td>\n",
       "      <td>0</td>\n",
       "      <td>0</td>\n",
       "      <td>0</td>\n",
       "      <td>0</td>\n",
       "      <td>1</td>\n",
       "      <td>0</td>\n",
       "    </tr>\n",
       "    <tr>\n",
       "      <th>2</th>\n",
       "      <td>0</td>\n",
       "      <td>0</td>\n",
       "      <td>0</td>\n",
       "      <td>0</td>\n",
       "      <td>0</td>\n",
       "      <td>0</td>\n",
       "      <td>0</td>\n",
       "      <td>0</td>\n",
       "      <td>0</td>\n",
       "      <td>0</td>\n",
       "      <td>0</td>\n",
       "      <td>1</td>\n",
       "      <td>1</td>\n",
       "    </tr>\n",
       "    <tr>\n",
       "      <th>3</th>\n",
       "      <td>0</td>\n",
       "      <td>0</td>\n",
       "      <td>0</td>\n",
       "      <td>0</td>\n",
       "      <td>0</td>\n",
       "      <td>0</td>\n",
       "      <td>0</td>\n",
       "      <td>0</td>\n",
       "      <td>0</td>\n",
       "      <td>0</td>\n",
       "      <td>1</td>\n",
       "      <td>0</td>\n",
       "      <td>0</td>\n",
       "    </tr>\n",
       "    <tr>\n",
       "      <th>4</th>\n",
       "      <td>0</td>\n",
       "      <td>0</td>\n",
       "      <td>0</td>\n",
       "      <td>0</td>\n",
       "      <td>0</td>\n",
       "      <td>0</td>\n",
       "      <td>0</td>\n",
       "      <td>0</td>\n",
       "      <td>0</td>\n",
       "      <td>0</td>\n",
       "      <td>1</td>\n",
       "      <td>0</td>\n",
       "      <td>1</td>\n",
       "    </tr>\n",
       "    <tr>\n",
       "      <th>...</th>\n",
       "      <td>...</td>\n",
       "      <td>...</td>\n",
       "      <td>...</td>\n",
       "      <td>...</td>\n",
       "      <td>...</td>\n",
       "      <td>...</td>\n",
       "      <td>...</td>\n",
       "      <td>...</td>\n",
       "      <td>...</td>\n",
       "      <td>...</td>\n",
       "      <td>...</td>\n",
       "      <td>...</td>\n",
       "      <td>...</td>\n",
       "    </tr>\n",
       "    <tr>\n",
       "      <th>122044</th>\n",
       "      <td>0</td>\n",
       "      <td>1</td>\n",
       "      <td>0</td>\n",
       "      <td>1</td>\n",
       "      <td>1</td>\n",
       "      <td>0</td>\n",
       "      <td>0</td>\n",
       "      <td>1</td>\n",
       "      <td>0</td>\n",
       "      <td>1</td>\n",
       "      <td>0</td>\n",
       "      <td>1</td>\n",
       "      <td>0</td>\n",
       "    </tr>\n",
       "    <tr>\n",
       "      <th>122045</th>\n",
       "      <td>0</td>\n",
       "      <td>0</td>\n",
       "      <td>0</td>\n",
       "      <td>0</td>\n",
       "      <td>1</td>\n",
       "      <td>0</td>\n",
       "      <td>0</td>\n",
       "      <td>0</td>\n",
       "      <td>0</td>\n",
       "      <td>1</td>\n",
       "      <td>0</td>\n",
       "      <td>0</td>\n",
       "      <td>0</td>\n",
       "    </tr>\n",
       "    <tr>\n",
       "      <th>122046</th>\n",
       "      <td>0</td>\n",
       "      <td>0</td>\n",
       "      <td>0</td>\n",
       "      <td>0</td>\n",
       "      <td>0</td>\n",
       "      <td>1</td>\n",
       "      <td>1</td>\n",
       "      <td>0</td>\n",
       "      <td>0</td>\n",
       "      <td>0</td>\n",
       "      <td>0</td>\n",
       "      <td>1</td>\n",
       "      <td>0</td>\n",
       "    </tr>\n",
       "    <tr>\n",
       "      <th>122047</th>\n",
       "      <td>0</td>\n",
       "      <td>0</td>\n",
       "      <td>1</td>\n",
       "      <td>1</td>\n",
       "      <td>1</td>\n",
       "      <td>1</td>\n",
       "      <td>0</td>\n",
       "      <td>1</td>\n",
       "      <td>0</td>\n",
       "      <td>1</td>\n",
       "      <td>0</td>\n",
       "      <td>1</td>\n",
       "      <td>0</td>\n",
       "    </tr>\n",
       "    <tr>\n",
       "      <th>122048</th>\n",
       "      <td>0</td>\n",
       "      <td>0</td>\n",
       "      <td>0</td>\n",
       "      <td>1</td>\n",
       "      <td>1</td>\n",
       "      <td>1</td>\n",
       "      <td>0</td>\n",
       "      <td>0</td>\n",
       "      <td>1</td>\n",
       "      <td>1</td>\n",
       "      <td>0</td>\n",
       "      <td>1</td>\n",
       "      <td>0</td>\n",
       "    </tr>\n",
       "  </tbody>\n",
       "</table>\n",
       "<p>406824 rows × 13 columns</p>\n",
       "</div>"
      ],
      "text/plain": [
       "        Description_0  Description_1  Description_2  Description_3  \\\n",
       "0                   0              0              0              0   \n",
       "1                   0              0              0              0   \n",
       "2                   0              0              0              0   \n",
       "3                   0              0              0              0   \n",
       "4                   0              0              0              0   \n",
       "...               ...            ...            ...            ...   \n",
       "122044              0              1              0              1   \n",
       "122045              0              0              0              0   \n",
       "122046              0              0              0              0   \n",
       "122047              0              0              1              1   \n",
       "122048              0              0              0              1   \n",
       "\n",
       "        Description_4  Description_5  Description_6  Description_7  \\\n",
       "0                   0              0              0              0   \n",
       "1                   0              0              0              0   \n",
       "2                   0              0              0              0   \n",
       "3                   0              0              0              0   \n",
       "4                   0              0              0              0   \n",
       "...               ...            ...            ...            ...   \n",
       "122044              1              0              0              1   \n",
       "122045              1              0              0              0   \n",
       "122046              0              1              1              0   \n",
       "122047              1              1              0              1   \n",
       "122048              1              1              0              0   \n",
       "\n",
       "        Description_8  Description_9  Description_10  Description_11  \\\n",
       "0                   0              0               0               0   \n",
       "1                   0              0               0               1   \n",
       "2                   0              0               0               1   \n",
       "3                   0              0               1               0   \n",
       "4                   0              0               1               0   \n",
       "...               ...            ...             ...             ...   \n",
       "122044              0              1               0               1   \n",
       "122045              0              1               0               0   \n",
       "122046              0              0               0               1   \n",
       "122047              0              1               0               1   \n",
       "122048              1              1               0               1   \n",
       "\n",
       "        Description_12  \n",
       "0                    1  \n",
       "1                    0  \n",
       "2                    1  \n",
       "3                    0  \n",
       "4                    1  \n",
       "...                ...  \n",
       "122044               0  \n",
       "122045               0  \n",
       "122046               0  \n",
       "122047               0  \n",
       "122048               0  \n",
       "\n",
       "[406824 rows x 13 columns]"
      ]
     },
     "execution_count": 21,
     "metadata": {},
     "output_type": "execute_result"
    }
   ],
   "source": [
    "hackathon_encoded=encoder.fit_transform(hackathon) \n",
    "hackathon_encoded"
   ]
  },
  {
   "cell_type": "code",
   "execution_count": 22,
   "metadata": {},
   "outputs": [
    {
     "name": "stdout",
     "output_type": "stream",
     "text": [
      "(284775, 15)\n",
      "(122049, 14)\n"
     ]
    }
   ],
   "source": [
    "#Splitting the hackathon dataframe into train and test datasets\n",
    "\n",
    "train=pd.concat([hackathon_train.drop([\"Description\"],axis=1),hackathon_encoded.iloc[:284775,:]],axis=1)\n",
    "test=pd.concat([hackathon_test.drop([\"Description\"],axis=1),hackathon_encoded.iloc[284775:,:]],axis=1)\n",
    "print(train.shape)\n",
    "print(test.shape)"
   ]
  },
  {
   "cell_type": "code",
   "execution_count": 23,
   "metadata": {
    "scrolled": true
   },
   "outputs": [
    {
     "data": {
      "text/plain": [
       "Quantity           28.357110\n",
       "UnitPrice         438.336669\n",
       "Description_0       0.000000\n",
       "Description_1       2.564396\n",
       "Description_2       0.923792\n",
       "Description_3       0.488082\n",
       "Description_4       0.271199\n",
       "Description_5       0.156269\n",
       "Description_6       0.013520\n",
       "Description_7      -0.006482\n",
       "Description_8      -0.016512\n",
       "Description_9      -0.011076\n",
       "Description_10      0.072435\n",
       "Description_11      0.019602\n",
       "Description_12     -0.034524\n",
       "dtype: float64"
      ]
     },
     "execution_count": 23,
     "metadata": {},
     "output_type": "execute_result"
    }
   ],
   "source": [
    "#checking fr skewness\n",
    "train.skew(axis = 0, skipna = True)"
   ]
  },
  {
   "cell_type": "code",
   "execution_count": 24,
   "metadata": {},
   "outputs": [],
   "source": [
    "#Definig the dependant and independant variable on the train datset\n",
    "\n",
    "X=train.drop([\"UnitPrice\"],axis=1)\n",
    "#X=scaler.fit_transform(X) # scaling and removing skewness\n",
    "Y=np.asarray(train[\"UnitPrice\"])\n",
    "Y=np.log1p(Y) # removing skewness"
   ]
  },
  {
   "cell_type": "code",
   "execution_count": 25,
   "metadata": {},
   "outputs": [
    {
     "data": {
      "text/plain": [
       "False"
      ]
     },
     "execution_count": 25,
     "metadata": {},
     "output_type": "execute_result"
    }
   ],
   "source": [
    "#checking for any nan values\n",
    "np.isnan(np.min(Y))"
   ]
  },
  {
   "cell_type": "code",
   "execution_count": 26,
   "metadata": {},
   "outputs": [
    {
     "name": "stdout",
     "output_type": "stream",
     "text": [
      "Train set: (227820, 14) (227820,)\n",
      "Test set: (56955, 14) (56955,)\n"
     ]
    }
   ],
   "source": [
    "#Splitting the X and Y int test and train sest\n",
    "\n",
    "X_train,X_test,Y_train,Y_test=train_test_split(X,Y,test_size=0.2,random_state=4)\n",
    "print ('Train set:', X_train.shape,  Y_train.shape)\n",
    "print ('Test set:', X_test.shape,  Y_test.shape)\n",
    "X_train=scaler.fit_transform(X_train)\n",
    "X_test=scaler.fit_transform(X_test)"
   ]
  },
  {
   "cell_type": "code",
   "execution_count": 27,
   "metadata": {},
   "outputs": [],
   "source": [
    "#Importing the relevant libraries for spot check algorithms\n",
    "\n",
    "from sklearn.linear_model import Lasso\n",
    "from sklearn.linear_model import ElasticNet\n",
    "from sklearn.tree import DecisionTreeRegressor\n",
    "from sklearn.neighbors import KNeighborsRegressor\n",
    "from sklearn.ensemble import GradientBoostingRegressor\n",
    "from sklearn.preprocessing import MinMaxScaler\n",
    "from sklearn.model_selection import KFold\n",
    "from sklearn.model_selection import cross_val_score\n",
    "\n",
    "import warnings\n",
    "warnings.filterwarnings(\"ignore\")"
   ]
  },
  {
   "cell_type": "code",
   "execution_count": 28,
   "metadata": {},
   "outputs": [
    {
     "name": "stdout",
     "output_type": "stream",
     "text": [
      "LR: -7.117300 (1.047674)\n",
      "LASSO: -6.927474 (1.067642)\n",
      "EN: -6.927474 (1.067642)\n",
      "KNN: -4.650970 (0.762431)\n",
      "CART: -4.786454 (1.078912)\n",
      "GBM: -6.657916 (1.065460)\n"
     ]
    }
   ],
   "source": [
    "models = []\n",
    "models.append(('LR',LinearRegression()))\n",
    "models.append(('LASSO', Lasso()))\n",
    "models.append(('EN', ElasticNet()))\n",
    "models.append(('KNN', KNeighborsRegressor()))\n",
    "models.append(('CART', DecisionTreeRegressor()))\n",
    "models.append(('GBM', GradientBoostingRegressor()))\n",
    "\n",
    "results = []\n",
    "names = []\n",
    "for name, model in models:\n",
    "    kfold = KFold(n_splits=10, random_state=21)\n",
    "    cv_results = cross_val_score(model, X_train, Y_train, cv=kfold, scoring='max_error')\n",
    "    results.append(cv_results)\n",
    "    names.append(name)\n",
    "    msg = \"%s: %f (%f)\" % (name, cv_results.mean(), cv_results.std())\n",
    "    print(msg)"
   ]
  },
  {
   "cell_type": "code",
   "execution_count": 49,
   "metadata": {},
   "outputs": [],
   "source": [
    "# Using K_Nearest neighbour regressor because it has the least error value\n",
    "# running for different K values to know which yields the max accuracy.\n",
    "from sklearn.metrics import mean_squared_error\n",
    "import math\n",
    "score = []\n",
    "error_rate=[]\n",
    "for k in range(1,20):    \n",
    "    clf = KNeighborsRegressor(n_neighbors = k,  weights = 'distance', p=1)\n",
    "    clf.fit(X_train, Y_train)\n",
    "    score.append(clf.score(X_test, Y_test))\n",
    "    pred=clf.predict(X_test)\n",
    "    rmse=np.sqrt(mean_squared_error(Y_test, pred))\n",
    "    error_rate.append(rmse)"
   ]
  },
  {
   "cell_type": "code",
   "execution_count": 50,
   "metadata": {},
   "outputs": [
    {
     "data": {
      "text/plain": [
       "Text(0, 0.5, 'Error Rate')"
      ]
     },
     "execution_count": 50,
     "metadata": {},
     "output_type": "execute_result"
    },
    {
     "data": {
      "image/png": "[encoded data removed]",
      "text/plain": [
       "<Figure size 720x432 with 1 Axes>"
      ]
     },
     "metadata": {
      "needs_background": "light"
     },
     "output_type": "display_data"
    }
   ],
   "source": [
    "#Plotting Error VS K\n",
    "\n",
    "plt.figure(figsize=(10,6))\n",
    "plt.plot(range(1,20),error_rate,color=\"blue\", linestyle=\"dashed\", marker=\"o\",markerfacecolor=\"red\", markersize=10)\n",
    "plt.title(\"Error Rate vs. K Value\")\n",
    "plt.xlabel(\"K\")\n",
    "plt.ylabel(\"Error Rate\")"
   ]
  },
  {
   "cell_type": "code",
   "execution_count": 51,
   "metadata": {},
   "outputs": [
    {
     "data": {
      "text/plain": [
       "Text(0, 0.5, 'Accuracy')"
      ]
     },
     "execution_count": 51,
     "metadata": {},
     "output_type": "execute_result"
    },
    {
     "data": {
      "image/png": "[encoded data removed]",
      "text/plain": [
       "<Figure size 720x432 with 1 Axes>"
      ]
     },
     "metadata": {
      "needs_background": "light"
     },
     "output_type": "display_data"
    }
   ],
   "source": [
    "#Plotting Accuracy vs K\n",
    "\n",
    "plt.figure(figsize=(10,6))\n",
    "plt.plot(range(1,20),score,color=\"blue\", linestyle=\"dashed\", marker=\"o\",markerfacecolor=\"red\", markersize=10)\n",
    "plt.title(\"Accuracy vs. K Value\")\n",
    "plt.xlabel(\"K\")\n",
    "plt.ylabel(\"Accuracy\")"
   ]
  },
  {
   "cell_type": "code",
   "execution_count": 52,
   "metadata": {},
   "outputs": [
    {
     "name": "stdout",
     "output_type": "stream",
     "text": [
      "At K = 14, Max Accuracy = 95.3971611130392\n"
     ]
    }
   ],
   "source": [
    "#understanding the best value of K\n",
    "k_max = score.index(max(score))+1\n",
    "print( \"At K = {}, Max Accuracy = {}\".format(k_max, max(score)*100))"
   ]
  },
  {
   "cell_type": "code",
   "execution_count": 53,
   "metadata": {},
   "outputs": [],
   "source": [
    "# Defininf the independant variable for the test dataset\n",
    "Xt=test\n",
    "Xt=scaler.fit_transform(Xt)\n",
    "X=scaler.fit_transform(X)"
   ]
  },
  {
   "cell_type": "code",
   "execution_count": 55,
   "metadata": {},
   "outputs": [
    {
     "name": "stdout",
     "output_type": "stream",
     "text": [
      "0.9645564467813801\n"
     ]
    }
   ],
   "source": [
    "#Applying KNeighboursRegressor Algorithm with k=6 (elbow method)\n",
    "\n",
    "clf = KNeighborsRegressor(n_neighbors = 6,  weights = 'distance', p=1)\n",
    "clf.fit(X, Y)\n",
    "print(clf.score(X, Y ))   \n",
    "y_pred = clf.predict(Xt)"
   ]
  },
  {
   "cell_type": "code",
   "execution_count": 60,
   "metadata": {},
   "outputs": [],
   "source": [
    "#Taking the antilog of ouput because it was log transformed earlier\n",
    "output = np.expm1(y_pred) #antilog"
   ]
  },
  {
   "cell_type": "code",
   "execution_count": 61,
   "metadata": {},
   "outputs": [],
   "source": [
    "hackathon_test[\"output\"]=output #storing the output in a dataframe"
   ]
  },
  {
   "cell_type": "code",
   "execution_count": 62,
   "metadata": {},
   "outputs": [],
   "source": [
    "o2=hackathon_test[\"output\"]"
   ]
  },
  {
   "cell_type": "code",
   "execution_count": 63,
   "metadata": {},
   "outputs": [
    {
     "data": {
      "text/plain": [
       "(122049,)"
      ]
     },
     "execution_count": 63,
     "metadata": {},
     "output_type": "execute_result"
    }
   ],
   "source": [
    "o2.shape"
   ]
  },
  {
   "cell_type": "code",
   "execution_count": 64,
   "metadata": {},
   "outputs": [],
   "source": [
    "o2.to_csv('hackathon_predictions.csv') #Storing in a CSV file"
   ]
  }
 ],
 "metadata": {
  "colab": {
   "name": "Untitled0.ipynb",
   "provenance": []
  },
  "kernelspec": {
   "display_name": "Python 3",
   "language": "python",
   "name": "python3"
  },
  "language_info": {
   "codemirror_mode": {
    "name": "ipython",
    "version": 3
   },
   "file_extension": ".py",
   "mimetype": "text/x-python",
   "name": "python",
   "nbconvert_exporter": "python",
   "pygments_lexer": "ipython3",
   "version": "3.8.3"
  }
 },
 "nbformat": 4,
 "nbformat_minor": 1
}
